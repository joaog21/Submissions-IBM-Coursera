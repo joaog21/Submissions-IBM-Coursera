{
 "cells": [
  {
   "cell_type": "markdown",
   "id": "f93a7c02-6ecb-49ee-a4f8-c7229599d699",
   "metadata": {},
   "source": [
    "# Data Science Tools and Ecosystem"
   ]
  },
  {
   "cell_type": "markdown",
   "id": "9c20009e-b64a-4e0c-acaa-1f002e083338",
   "metadata": {},
   "source": [
    "*In this notebook, Data Science Tools and Ecosystem are summarized.*"
   ]
  },
  {
   "cell_type": "markdown",
   "id": "dc2493ea-efef-405e-a2c9-a63b1aee776d",
   "metadata": {},
   "source": [
    "***\n",
    "## Some of the popular languages that Data Scientists use are:\n",
    "\n",
    "1. Python\n",
    "2. R\n",
    "3. SQL"
   ]
  },
  {
   "cell_type": "markdown",
   "id": "afb4a851-b3fc-4566-a531-46d4a29441e8",
   "metadata": {},
   "source": [
    "***\n",
    "## Some of the commonly used libraries used by Data Scientists include:\n",
    "1. TensorFlow\n",
    "2. Pandas\n",
    "3. NumPy\n",
    "4. Keras\n",
    "5. SciPy"
   ]
  },
  {
   "cell_type": "markdown",
   "id": "2430aab5-70f9-4503-aa45-10f9a7683599",
   "metadata": {},
   "source": [
    "## Below are a few examples of evaluating arithmetic expressions in Python\n",
    "\n",
    "|Data Science Tools|\n",
    "|:-:|\n",
    "|Tableau|\n",
    "|Jupyter Notebook|\n",
    "|Apache Spark|"
   ]
  },
  {
   "cell_type": "markdown",
   "id": "9a39bbb2-2bb2-4966-b625-806eab3397ec",
   "metadata": {},
   "source": [
    "## Below are a few examples of evaluating arithmetic expressions in Python:\n",
    "\n",
    "* a+b>5\n",
    "* 23+72\n",
    "* 64*3"
   ]
  },
  {
   "cell_type": "code",
   "execution_count": 6,
   "id": "fa048019-8e38-4070-8d1a-407c53d557a7",
   "metadata": {},
   "outputs": [
    {
     "data": {
      "text/plain": [
       "17"
      ]
     },
     "execution_count": 6,
     "metadata": {},
     "output_type": "execute_result"
    }
   ],
   "source": [
    "#This a simple arithmetic expression to mutiply then add integers\n",
    "(3*4)+5\n"
   ]
  },
  {
   "cell_type": "code",
   "execution_count": 5,
   "id": "879c84cc-78a9-4293-91be-93976fe58881",
   "metadata": {},
   "outputs": [
    {
     "name": "stdin",
     "output_type": "stream",
     "text": [
      "What is the time in minutes:  200\n"
     ]
    },
    {
     "name": "stdout",
     "output_type": "stream",
     "text": [
      "The time corresponds to  3.3333333333333335  hours.\n"
     ]
    }
   ],
   "source": [
    "#ask the user for a time frame in minutes\n",
    "minutes = int(input(\"What is the time in minutes: \"))\n",
    "\n",
    "#convert into hours and display the value\n",
    "hours = minutes/60\n",
    "print(\"The time corresponds to \", hours, \" hours.\")"
   ]
  },
  {
   "cell_type": "markdown",
   "id": "237b7b56-8110-497e-b7c4-60a6f682c392",
   "metadata": {},
   "source": [
    "## Objectives\n",
    "\n",
    "* Create a Jupyter Notebook\n",
    "* Insert code and markdown cells\n",
    "* Share your notebook through GitHub"
   ]
  },
  {
   "cell_type": "markdown",
   "id": "c5d9cdf5-1354-4a70-a275-e8a5960e9a32",
   "metadata": {},
   "source": [
    "## Author\n",
    "\n",
    "[João G](https://www.linkedin.com/in/jo%C3%A3o-garcia-98015417a/)"
   ]
  }
 ],
 "metadata": {
  "kernelspec": {
   "display_name": "Python",
   "language": "python",
   "name": "conda-env-python-py"
  },
  "language_info": {
   "codemirror_mode": {
    "name": "ipython",
    "version": 3
   },
   "file_extension": ".py",
   "mimetype": "text/x-python",
   "name": "python",
   "nbconvert_exporter": "python",
   "pygments_lexer": "ipython3",
   "version": "3.7.12"
  }
 },
 "nbformat": 4,
 "nbformat_minor": 5
}
